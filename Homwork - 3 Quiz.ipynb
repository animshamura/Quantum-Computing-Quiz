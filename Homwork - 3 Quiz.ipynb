{
  "metadata": {
    "language_info": {
      "codemirror_mode": {
        "name": "python",
        "version": 3
      },
      "file_extension": ".py",
      "mimetype": "text/x-python",
      "name": "python",
      "nbconvert_exporter": "python",
      "pygments_lexer": "ipython3",
      "version": "3.8"
    },
    "kernelspec": {
      "name": "python",
      "display_name": "Python (Pyodide)",
      "language": "python"
    }
  },
  "nbformat_minor": 4,
  "nbformat": 4,
  "cells": [
    {
      "cell_type": "code",
      "source": "Quantum Tunneling \n\nThe fundamental unit of information in a quantum computer.\n\nQuantum effects like tunneling cause small enough transistors and, in turn, classical computers to work incorrectly.\nThis means we cannot keep making smaller transistors and therefore more powerful computers.\n\nhungry and crying\n\n10/10 \n\n51 \n\n0\n    \n6 \n\n0/10\n\nx1 = -3.0 and x2 = - 5.0 ",
      "metadata": {},
      "execution_count": null,
      "outputs": []
    }
  ]
}
