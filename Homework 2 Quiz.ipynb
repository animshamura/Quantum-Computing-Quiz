89.3
a and e
int 
float
string
list
float
All of them
b,d
a-c, g and i